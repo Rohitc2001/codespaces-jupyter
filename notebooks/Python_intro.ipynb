{
 "cells": [
  {
   "cell_type": "markdown",
   "metadata": {},
   "source": [
    "# Introduction to Python"
   ]
  },
  {
   "cell_type": "markdown",
   "metadata": {},
   "source": [
    "Python is a general-purpose, dynamic, high-level, and interpreted programming language. It supports Object Oriented programming approach to develop applications. It is simple and easy to learn and provides lots of high-level data structures.\n",
    "\n",
    "Python is an interpreted scripting language also. Guido Van Rossum is known as the founder of Python programming.<br>\n",
    "<img alt=\"A photo of a man on an elephant with an ML-generated overlay showing objects in the frame\" src=\"https://pythoninstitute.org/assets/620e5e953ea6c215975676.jpg\" width=200px>\n"
   ]
  },
  {
   "cell_type": "markdown",
   "metadata": {},
   "source": [
    "# Features Of Python"
   ]
  },
  {
   "cell_type": "markdown",
   "metadata": {},
   "source": [
    "<ul>\n",
    "  <li>Easy to learn.</li>\n",
    "  <li>Expressive</li>\n",
    "  <li>Interpreted</li>\n",
    "  <li>Cross Platform</li>\n",
    "  <li>Free and opensource</li>\n",
    "  <li>Object Oriented</li>\n",
    "  <li>Dynamic Memory Allocation</li>\n",
    "</ul>"
   ]
  },
  {
   "cell_type": "markdown",
   "metadata": {},
   "source": [
    "<h5><u>Easy to learn and Expressive</u></h5>"
   ]
  },
  {
   "cell_type": "code",
   "execution_count": null,
   "metadata": {},
   "outputs": [],
   "source": [
    "print(\"Hello all\")\n",
    "print(\"\"\"Hello World\n",
    "You all are learning python.\n",
    "\"\"\")"
   ]
  },
  {
   "cell_type": "markdown",
   "metadata": {},
   "source": [
    "\n",
    "<h5><u>How Interpretation Works</u></h5>\n",
    "<img alt=\"Interpretation\" src=\"https://media.geeksforgeeks.org/wp-content/uploads/20210416224735/ss.png\" width=450px>\n"
   ]
  },
  {
   "cell_type": "markdown",
   "metadata": {},
   "source": [
    "<p><b>Memory is allocated to the objects at the run time.</b><br>We use the Heap for implement dynamic memory management.<br> We can use the memory throughout the program.</p>\n",
    "<p>In Python, we don't need to specify the data-type of the variable. <br>When we assign some value to the variable, it automatically allocates the memory to the variable at run time. </p>\n",
    "Python memory manager automatically vanishes when the object is no longer in use."
   ]
  },
  {
   "cell_type": "markdown",
   "metadata": {},
   "source": [
    "<h5><u>Crosss Platform</u></h5>\n",
    "<img alt=\"Interpreter\" src=\"data:image/png;base64,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\" width=400x>\n",
    "\n",
    "<p>Python can run equally on different platforms such as <b>Windows, Linux, UNIX, and Macintosh etc.</b><br> So, we can say that Python is a portable language. <br>It enables programmers to develop the software for several competing platforms by writing a program only once.</p>\n"
   ]
  },
  {
   "cell_type": "markdown",
   "metadata": {},
   "source": [
    "# Application Of Python."
   ]
  },
  {
   "cell_type": "markdown",
   "metadata": {},
   "source": [
    "<img alt=\"A photo of a man on an elephant with an ML-generated overlay showing objects in the frame\" src=\"https://static.javatpoint.com/python/images/python-applications.png\" width=450px>"
   ]
  },
  {
   "cell_type": "markdown",
   "metadata": {},
   "source": [
    "<h2>How to print things in Python</h2>\n",
    "<b>C++ Print Code</b><br>\n",
    "#include <iostream><br>\n",
    "using namespace std;<br>  \n",
    "int main()<br>  \n",
    "{ <br> \n",
    "    int a=20;<br>  \n",
    "    std::cout << \"value of a is : \" <<a<< std::endl;<br>\n",
    "    return 0;  <br>\n",
    "}  \n"
   ]
  },
  {
   "cell_type": "code",
   "execution_count": 1,
   "metadata": {},
   "outputs": [
    {
     "name": "stdout",
     "output_type": "stream",
     "text": [
      "Welcome to python session New line\n",
      "10.0\n"
     ]
    }
   ],
   "source": [
    "# Use \"\\n\" for new change line.\n",
    "# Use \"end = ''\" for same line.\n"
   ]
  },
  {
   "cell_type": "markdown",
   "metadata": {},
   "source": [
    "# Python Variables"
   ]
  },
  {
   "cell_type": "markdown",
   "metadata": {},
   "source": [
    "<ul>\n",
    "  <li>Integer</li>\n",
    "  <li>Float</li>\n",
    "  <li>String</li>\n",
    "  <li>Boolean</li>\n",
    "</ul>\n",
    "\n",
    "<img alt= \"datatypes\" src= \"https://static.javatpoint.com/python/images/python-data-types.png\" width=400px>"
   ]
  },
  {
   "cell_type": "markdown",
   "metadata": {},
   "source": [
    "## Integer"
   ]
  },
  {
   "cell_type": "code",
   "execution_count": null,
   "metadata": {},
   "outputs": [],
   "source": [
    "# Integer\n",
    "# type\n"
   ]
  },
  {
   "cell_type": "markdown",
   "metadata": {},
   "source": [
    "## Float"
   ]
  },
  {
   "cell_type": "code",
   "execution_count": null,
   "metadata": {},
   "outputs": [],
   "source": [
    "# Float"
   ]
  },
  {
   "cell_type": "markdown",
   "metadata": {},
   "source": [
    "## Boolean"
   ]
  },
  {
   "cell_type": "code",
   "execution_count": 4,
   "metadata": {},
   "outputs": [
    {
     "name": "stdout",
     "output_type": "stream",
     "text": [
      "True\n"
     ]
    }
   ],
   "source": [
    "# Boolean\n",
    "a = 10\n",
    "b = 10\n",
    "print(a==b)"
   ]
  },
  {
   "cell_type": "markdown",
   "metadata": {},
   "source": [
    "# Datatypes in Python"
   ]
  },
  {
   "cell_type": "markdown",
   "metadata": {},
   "source": [
    "<ul>\n",
    "  <li>List</li>\n",
    "  <li>Tuple</li>\n",
    "  <li>Set</li>\n",
    "  <li>Dictionary</li>\n",
    "</ul>"
   ]
  },
  {
   "cell_type": "markdown",
   "metadata": {},
   "source": [
    "## <h3>List[]</h3>"
   ]
  },
  {
   "cell_type": "markdown",
   "metadata": {},
   "source": [
    "Think list as array in C, C++.\n",
    "\n",
    "<ul>\n",
    "  <li>A list is a collection of items separated by commas and denoted by the symbol <b>[]</b>.</li>\n",
    "  <li>List is Mutable</li>\n",
    "</ul>\n",
    "<img alt=\"List\"src=\"https://static.javatpoint.com/python/images/python-list2.png\" width=450px> <br>\n"
   ]
  },
  {
   "cell_type": "code",
   "execution_count": null,
   "metadata": {},
   "outputs": [],
   "source": [
    "#Python List"
   ]
  },
  {
   "cell_type": "markdown",
   "metadata": {},
   "source": [
    "<h5>Indexing in List</h5>\n",
    "<img alt=\"List Indexing\" src=\"https://static.javatpoint.com/python/images/python-list.png\" width=400>"
   ]
  },
  {
   "cell_type": "code",
   "execution_count": null,
   "metadata": {},
   "outputs": [],
   "source": [
    "# Indexing & Slicing in List"
   ]
  },
  {
   "cell_type": "markdown",
   "metadata": {},
   "source": [
    "<h5>Update list</h5>\n",
    "<b>Used for updating the list</b>"
   ]
  },
  {
   "cell_type": "code",
   "execution_count": null,
   "metadata": {},
   "outputs": [],
   "source": [
    "# Update List - append(), insert() - Works for specific method."
   ]
  },
  {
   "cell_type": "markdown",
   "metadata": {},
   "source": [
    "<h5>extend()</h5>\n",
    "<b>use to extend the list2 in list1</b>\n",
    "list1.extend(list2)"
   ]
  },
  {
   "cell_type": "code",
   "execution_count": null,
   "metadata": {},
   "outputs": [],
   "source": [
    "# extend()"
   ]
  },
  {
   "cell_type": "markdown",
   "metadata": {},
   "source": [
    "<h5>Sum()</h5>"
   ]
  },
  {
   "cell_type": "code",
   "execution_count": null,
   "metadata": {},
   "outputs": [],
   "source": [
    "# sum(list) - works with same data types"
   ]
  },
  {
   "cell_type": "markdown",
   "metadata": {},
   "source": [
    "<h5>len()</h5>"
   ]
  },
  {
   "cell_type": "code",
   "execution_count": null,
   "metadata": {},
   "outputs": [],
   "source": [
    "# Length Of List"
   ]
  },
  {
   "cell_type": "markdown",
   "metadata": {},
   "source": [
    "<h5>Concatenation</h5>"
   ]
  },
  {
   "cell_type": "code",
   "execution_count": null,
   "metadata": {},
   "outputs": [],
   "source": [
    "# Concatenation Of List - l1 + l2\n"
   ]
  },
  {
   "cell_type": "markdown",
   "metadata": {},
   "source": [
    "## <h3>Tuple()</h3>"
   ]
  },
  {
   "cell_type": "markdown",
   "metadata": {},
   "source": [
    "A comma-separated group of items is called a Python triple. \n",
    "The ordering, settled items, and reiterations of a tuple are to some degree like those of a rundown, \n",
    "but in contrast to a rundown, a tuple is unchanging.\n",
    "\n",
    "Example\n",
    "\n",
    "(\"Suzuki\", \"Audi\", \"BMW\",\" Skoda \") is a tuple.  \n",
    "\n"
   ]
  },
  {
   "cell_type": "code",
   "execution_count": null,
   "metadata": {},
   "outputs": [],
   "source": [
    "# Python program to show how to create a tuple ()\n",
    "# Creating an empty tuple  - type()"
   ]
  },
  {
   "cell_type": "code",
   "execution_count": null,
   "metadata": {},
   "outputs": [],
   "source": [
    "# Creating tuple having integers "
   ]
  },
  {
   "cell_type": "code",
   "execution_count": null,
   "metadata": {},
   "outputs": [],
   "source": [
    "# Creating a tuple having objects of different data types "
   ]
  },
  {
   "cell_type": "code",
   "execution_count": null,
   "metadata": {},
   "outputs": [],
   "source": [
    "# Creating a nested tuple    \n",
    "# (str, Dict, tup)"
   ]
  },
  {
   "cell_type": "markdown",
   "metadata": {},
   "source": [
    "## <h3>Set{}</h3>"
   ]
  },
  {
   "cell_type": "markdown",
   "metadata": {},
   "source": [
    "<ul>\n",
    "<li>A Python set is the collection of the unordered items.</li>\n",
    "<li>Each element in the set must be unique, immutable, and the sets remove the duplicate elements.</li>\n",
    "<li>Sets are mutable which means we can modify it after its creation.</li>\n",
    "</ul>\n",
    "\n",
    "Days = {\"Monday\", \"Tuesday\", \"Wednesday\", \"Thursday\", \"Friday\", \"Saturday\", \"Sunday\"}   is set"
   ]
  },
  {
   "cell_type": "code",
   "execution_count": null,
   "metadata": {},
   "outputs": [],
   "source": [
    "# Define a Set\n",
    "# type()"
   ]
  },
  {
   "cell_type": "markdown",
   "metadata": {},
   "source": [
    "<h5>add()</h5>"
   ]
  },
  {
   "cell_type": "code",
   "execution_count": null,
   "metadata": {},
   "outputs": [],
   "source": [
    "# days.add(\"value\")"
   ]
  },
  {
   "cell_type": "markdown",
   "metadata": {},
   "source": [
    "## <h3>Dictionay{}</h3>"
   ]
  },
  {
   "cell_type": "markdown",
   "metadata": {},
   "source": [
    "Dictionaries are a useful data structure for storing data in Python<br>\n",
    "The data is stored as key-value pairs using a Python dictionary.\n",
    "\n",
    "This data structure is mutable <br>\n",
    "The components of dictionary were made using keys and values.\n",
    "\n",
    "Keys must only have one component.<br>\n",
    "Values can be of any type, including integer, list, and tuple.\n"
   ]
  },
  {
   "cell_type": "markdown",
   "metadata": {},
   "source": [
    "<h5>Create Dictionary</h5>"
   ]
  },
  {
   "cell_type": "code",
   "execution_count": null,
   "metadata": {},
   "outputs": [],
   "source": [
    "# Dictionary - {key, value}"
   ]
  },
  {
   "cell_type": "markdown",
   "metadata": {},
   "source": [
    "<h5>Access Elements</h5>"
   ]
  },
  {
   "cell_type": "code",
   "execution_count": null,
   "metadata": {},
   "outputs": [],
   "source": [
    "# dic_name[key]"
   ]
  },
  {
   "cell_type": "markdown",
   "metadata": {},
   "source": [
    "# Loops in Python"
   ]
  },
  {
   "cell_type": "markdown",
   "metadata": {},
   "source": [
    "<ul>\n",
    "  <li>For Loop</li>\n",
    "  <li>While Loop</li>\n",
    "  <li>Nested Loops</li>\n",
    "</ul>"
   ]
  },
  {
   "cell_type": "markdown",
   "metadata": {},
   "source": [
    "## For Loop"
   ]
  },
  {
   "cell_type": "code",
   "execution_count": null,
   "metadata": {},
   "outputs": [],
   "source": [
    "# for loop"
   ]
  },
  {
   "cell_type": "markdown",
   "metadata": {},
   "source": [
    "## While Loop"
   ]
  },
  {
   "cell_type": "code",
   "execution_count": null,
   "metadata": {},
   "outputs": [],
   "source": [
    "# While loop"
   ]
  },
  {
   "cell_type": "markdown",
   "metadata": {},
   "source": [
    "## Nested Loops"
   ]
  },
  {
   "cell_type": "code",
   "execution_count": null,
   "metadata": {},
   "outputs": [],
   "source": [
    "# Nested loop"
   ]
  },
  {
   "cell_type": "markdown",
   "metadata": {},
   "source": [
    "# Functions in python"
   ]
  },
  {
   "cell_type": "markdown",
   "metadata": {},
   "source": [
    "<ul>\n",
    "  <li>Default Arguments</li>\n",
    "  <li>Keyword Arguments</li>\n",
    "  <li>Required Arguments</li>\n",
    "  <li>Variable Length Arguments</li>\n",
    "</ul>"
   ]
  },
  {
   "cell_type": "code",
   "execution_count": null,
   "metadata": {},
   "outputs": [],
   "source": [
    "# Python Functions"
   ]
  },
  {
   "cell_type": "markdown",
   "metadata": {},
   "source": [
    "<h5>Default Arguments</h5>"
   ]
  },
  {
   "cell_type": "code",
   "execution_count": null,
   "metadata": {},
   "outputs": [],
   "source": [
    "#Default Arguments"
   ]
  },
  {
   "cell_type": "markdown",
   "metadata": {},
   "source": [
    "<h5>Keyword Arguments</h5>"
   ]
  },
  {
   "cell_type": "code",
   "execution_count": null,
   "metadata": {},
   "outputs": [],
   "source": [
    "# keyword Argument"
   ]
  }
 ],
 "metadata": {
  "kernelspec": {
   "display_name": "Python 3",
   "language": "python",
   "name": "python3"
  },
  "language_info": {
   "codemirror_mode": {
    "name": "ipython",
    "version": 3
   },
   "file_extension": ".py",
   "mimetype": "text/x-python",
   "name": "python",
   "nbconvert_exporter": "python",
   "pygments_lexer": "ipython3",
   "version": "3.10.8"
  },
  "orig_nbformat": 4
 },
 "nbformat": 4,
 "nbformat_minor": 2
}

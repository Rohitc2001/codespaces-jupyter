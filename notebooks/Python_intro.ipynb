{
 "cells": [
  {
   "cell_type": "markdown",
   "metadata": {},
   "source": [
    "# Introduction to Python\n",
    "<h3>Features Of Python</h3>\n",
    "<ul>\n",
    "  <li>Easy to learn.</li>\n",
    "  <li>Expressive</li>\n",
    "  <li>Interpreted</li>\n",
    "  <li>Cross Platform</li>\n",
    "  <li>Free and opensource</li>\n",
    "  <li>Object Oriented</li>\n",
    "  <li>Dynamic Memory Allocation</li>\n",
    "</ul>"
   ]
  },
  {
   "cell_type": "markdown",
   "metadata": {},
   "source": [
    "<h5>Easy to learn and Expressive</h5>"
   ]
  },
  {
   "cell_type": "code",
   "execution_count": 6,
   "metadata": {},
   "outputs": [
    {
     "name": "stdout",
     "output_type": "stream",
     "text": [
      "Hello all\n",
      "Hello World\n",
      "You all are learning python.\n",
      "\n"
     ]
    }
   ],
   "source": [
    "print(\"Hello all\")\n",
    "print(\"\"\"Hello World\n",
    "You all are learning python.\n",
    "\"\"\")"
   ]
  },
  {
   "cell_type": "markdown",
   "metadata": {},
   "source": [
    "<h3> Application Of Python </h3>\n",
    "<img alt=\"A photo of a man on an elephant with an ML-generated overlay showing objects in the frame\" src=\"https://static.javatpoint.com/python/images/python-applications.png\" width=450px>\n"
   ]
  },
  {
   "cell_type": "markdown",
   "metadata": {},
   "source": [
    "<h2>How to print things in Python</h2>\n",
    "<b>C++ Print Code</b><br>\n",
    "#include <iostream><br>\n",
    "using namespace std;<br>  \n",
    "int main()<br>  \n",
    "{ <br> \n",
    "    int a=20;<br>  \n",
    "    std::cout << \"value of a is : \" <<a<< std::endl;<br>\n",
    "    return 0;  <br>\n",
    "}  \n"
   ]
  },
  {
   "cell_type": "code",
   "execution_count": 3,
   "metadata": {},
   "outputs": [
    {
     "name": "stdout",
     "output_type": "stream",
     "text": [
      "Welcome to python session New line\n"
     ]
    }
   ],
   "source": [
    "print(\"Welcome to python session\",end=\" \")\n",
    "print(\"New line\")\n",
    "# Use \"\\n\" for new change line.\n",
    "# Use \"\""
   ]
  },
  {
   "cell_type": "markdown",
   "metadata": {},
   "source": [
    "<h3>Variables in Python</h3>\n",
    "<h5>Dynamically Typed Language</h5>"
   ]
  }
 ],
 "metadata": {
  "kernelspec": {
   "display_name": "Python 3",
   "language": "python",
   "name": "python3"
  },
  "language_info": {
   "codemirror_mode": {
    "name": "ipython",
    "version": 3
   },
   "file_extension": ".py",
   "mimetype": "text/x-python",
   "name": "python",
   "nbconvert_exporter": "python",
   "pygments_lexer": "ipython3",
   "version": "3.10.8"
  },
  "orig_nbformat": 4
 },
 "nbformat": 4,
 "nbformat_minor": 2
}
